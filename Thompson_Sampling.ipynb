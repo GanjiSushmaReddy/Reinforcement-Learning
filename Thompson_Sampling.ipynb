{
 "cells": [
  {
   "cell_type": "markdown",
   "id": "50ed6b6f",
   "metadata": {},
   "source": [
    "# Thompson_Sampling"
   ]
  },
  {
   "cell_type": "markdown",
   "id": "39704b4b",
   "metadata": {},
   "source": [
    "### Importing Libraries"
   ]
  },
  {
   "cell_type": "code",
   "execution_count": 1,
   "id": "45aea477",
   "metadata": {},
   "outputs": [],
   "source": [
    "import numpy as np\n",
    "import matplotlib.pyplot as plt\n",
    "import pandas as pd"
   ]
  },
  {
   "cell_type": "markdown",
   "id": "5a349b80",
   "metadata": {},
   "source": [
    "### Importing Dataset"
   ]
  },
  {
   "cell_type": "code",
   "execution_count": 2,
   "id": "7f48588b",
   "metadata": {},
   "outputs": [],
   "source": [
    "dataset = pd.read_csv('Ads_CTR_Optimisation.csv')"
   ]
  },
  {
   "cell_type": "markdown",
   "id": "adfcf0f8",
   "metadata": {},
   "source": [
    "### Implementing Thompson Sampling"
   ]
  },
  {
   "cell_type": "code",
   "execution_count": 3,
   "id": "459e6a77",
   "metadata": {},
   "outputs": [],
   "source": [
    "import random\n",
    "N=500\n",
    "d=10\n",
    "ads_selected=[]\n",
    "number_of_rewards_1=[0]*d\n",
    "number_of_rewards_0=[0]*d\n",
    "total_rewards=0\n",
    "for n in range(0,N):\n",
    "    ad=0\n",
    "    max_random=0\n",
    "    for i in range(0,d):\n",
    "        random_beta = random.betavariate(number_of_rewards_1[i] + 1, number_of_rewards_0[i] + 1)\n",
    "        if random_beta > max_random:\n",
    "            max_random = random_beta\n",
    "            ad = i\n",
    "    ads_selected.append(ad)\n",
    "    reward = dataset.values[n,ad]\n",
    "    if reward == 1:\n",
    "        number_of_rewards_1[ad] = number_of_rewards_1[ad]+1\n",
    "    else:\n",
    "        number_of_rewards_0[ad] = number_of_rewards_0[ad]+1\n",
    "    total_rewards = total_rewards+reward"
   ]
  },
  {
   "cell_type": "markdown",
   "id": "06d2c077",
   "metadata": {},
   "source": [
    "### Visualising the results   "
   ]
  },
  {
   "cell_type": "code",
   "execution_count": 4,
   "id": "91317639",
   "metadata": {},
   "outputs": [
    {
     "data": {
      "image/png": "[encoded data removed]",
      "text/plain": [
       "<Figure size 432x288 with 1 Axes>"
      ]
     },
     "metadata": {
      "needs_background": "light"
     },
     "output_type": "display_data"
    }
   ],
   "source": [
    "plt.hist(ads_selected)\n",
    "plt.title('Histogram of ads selections')\n",
    "plt.xlabel('ads')\n",
    "plt.ylabel('Number of times each ad was selected')\n",
    "plt.show()"
   ]
  }
 ],
 "metadata": {
  "kernelspec": {
   "display_name": "Python 3 (ipykernel)",
   "language": "python",
   "name": "python3"
  },
  "language_info": {
   "codemirror_mode": {
    "name": "ipython",
    "version": 3
   },
   "file_extension": ".py",
   "mimetype": "text/x-python",
   "name": "python",
   "nbconvert_exporter": "python",
   "pygments_lexer": "ipython3",
   "version": "3.10.2"
  }
 },
 "nbformat": 4,
 "nbformat_minor": 5
}
